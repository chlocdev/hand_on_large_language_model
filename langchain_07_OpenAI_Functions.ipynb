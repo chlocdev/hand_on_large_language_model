{
 "cells": [
  {
   "cell_type": "markdown",
   "id": "69c7a47b-ce21-43be-a568-c91ca87f1726",
   "metadata": {},
   "source": [
    "# OpenAI Function Calling"
   ]
  },
  {
   "cell_type": "code",
   "execution_count": 32,
   "id": "3ba0fd4e-0c8e-4b25-ac1c-cab213a0359c",
   "metadata": {},
   "outputs": [],
   "source": [
    "import os\n",
    "import json\n",
    "from openai import OpenAI\n",
    "from IPython.display import display, JSON\n",
    "\n",
    "OPENAI_API_KEY_PATH = '/home/loc/Documents/OPENAI_API_KEY.txt'\n",
    "llm_model = 'gpt-3.5-turbo-0613'\n",
    "\n",
    "with open(OPENAI_API_KEY_PATH) as f:\n",
    "    OPENAI_API_KEY = f.read().strip()\n",
    "    os.environ['OPENAI_API_KEY'] = OPENAI_API_KEY\n",
    "\n",
    "client = OpenAI(api_key = OPENAI_API_KEY)"
   ]
  },
  {
   "cell_type": "code",
   "execution_count": 33,
   "id": "a83b3349-5a91-49a2-b891-73ad373c13a1",
   "metadata": {},
   "outputs": [],
   "source": [
    "# Example dummy function hard coded to return the same weather\n",
    "# In production, this could be your backend API or an external API\n",
    "\n",
    "def get_current_weather(location, unit='fahrenheit'):\n",
    "    '''\n",
    "    Get the current weather in a given location\n",
    "    '''\n",
    "    weather_info = {\n",
    "        'location': location,\n",
    "        'temperature': '72',\n",
    "        'unit': unit,\n",
    "        'forecast':['sunny','windy']\n",
    "    }\n",
    "    return json.dumps(weather_info) # convert to string"
   ]
  },
  {
   "cell_type": "code",
   "execution_count": 34,
   "id": "1fd227ec-3c30-46c4-b211-840b54ab1c16",
   "metadata": {},
   "outputs": [],
   "source": [
    "# define a function\n",
    "functions = [\n",
    "    {\n",
    "        \"name\": \"get_current_weather\",\n",
    "        \"description\": \"Get the current weather in a given location\",\n",
    "        \"parameters\": {\n",
    "            \"type\": \"object\",\n",
    "            \"properties\": {\n",
    "                \"location\": {\n",
    "                    \"type\": \"string\",\n",
    "                    \"description\": \"The city and state, e.g. San Francisco, CA\",\n",
    "                },\n",
    "                \"unit\": {\n",
    "                    \"type\": \"string\",\n",
    "                    \"enum\": [\"celsius\", \"fahrenheit\"]},\n",
    "            },\n",
    "            \"required\": [\"location\"],\n",
    "        },\n",
    "    }\n",
    "]"
   ]
  },
  {
   "cell_type": "code",
   "execution_count": 35,
   "id": "233b4fba-c88a-48f1-97cf-abb56faa17a0",
   "metadata": {},
   "outputs": [],
   "source": [
    "messages = [\n",
    "    {\n",
    "        \"role\": \"user\",\n",
    "        \"content\": \"What's the weather like in Boston?\"\n",
    "    }\n",
    "]"
   ]
  },
  {
   "cell_type": "code",
   "execution_count": 36,
   "id": "7713c6ac-6cc5-4d87-9cd3-a0050b5de6f0",
   "metadata": {},
   "outputs": [
    {
     "name": "stderr",
     "output_type": "stream",
     "text": [
      "/home/loc/miniconda3/envs/venv/lib/python3.8/site-packages/IPython/core/display.py:618: UserWarning: JSON expects JSONable dict or list, not JSON strings\n",
      "  warnings.warn(\"JSON expects JSONable dict or list, not JSON strings\")\n"
     ]
    },
    {
     "data": {
      "application/json": {
       "choices": [
        {
         "finish_reason": "stop",
         "index": 0,
         "logprobs": null,
         "message": {
          "content": "I'm sorry, I cannot provide real-time information as I am an AI language model and do not have access to current data. However, you can check the weather in Boston by using a weather website or app, or by searching \"weather in Boston\" on a search engine.",
          "function_call": null,
          "role": "assistant",
          "tool_calls": null
         }
        }
       ],
       "created": 1717231525,
       "id": "chatcmpl-9VEebugdMbBNYZfRJPgcUOA87U8Yp",
       "model": "gpt-3.5-turbo-0613",
       "object": "chat.completion",
       "system_fingerprint": null,
       "usage": {
        "completion_tokens": 56,
        "prompt_tokens": 15,
        "total_tokens": 71
       }
      },
      "text/plain": [
       "<IPython.core.display.JSON object>"
      ]
     },
     "metadata": {
      "application/json": {
       "expanded": false,
       "root": "root"
      }
     },
     "output_type": "display_data"
    }
   ],
   "source": [
    "# Get response\n",
    "response = client.chat.completions.create(\n",
    "        model = llm_model,\n",
    "        messages = messages,\n",
    "        temperature = 0\n",
    ")\n",
    "\n",
    "# Print out\n",
    "display(JSON(response.json()))"
   ]
  },
  {
   "cell_type": "code",
   "execution_count": 37,
   "id": "4e3f14cd-5090-4297-9326-ca907433bdfb",
   "metadata": {},
   "outputs": [
    {
     "data": {
      "application/json": {
       "choices": [
        {
         "finish_reason": "function_call",
         "index": 0,
         "logprobs": null,
         "message": {
          "content": null,
          "function_call": {
           "arguments": "{\n  \"location\": \"Boston, MA\"\n}",
           "name": "get_current_weather"
          },
          "role": "assistant",
          "tool_calls": null
         }
        }
       ],
       "created": 1717231623,
       "id": "chatcmpl-9VEgB0SUwXgsiJnjzktJdwcUwNWGt",
       "model": "gpt-3.5-turbo-0613",
       "object": "chat.completion",
       "system_fingerprint": null,
       "usage": {
        "completion_tokens": 18,
        "prompt_tokens": 82,
        "total_tokens": 100
       }
      },
      "text/plain": [
       "<IPython.core.display.JSON object>"
      ]
     },
     "metadata": {
      "application/json": {
       "expanded": false,
       "root": "root"
      }
     },
     "output_type": "display_data"
    }
   ],
   "source": [
    "# Get response\n",
    "response = client.chat.completions.create(\n",
    "    model = llm_model,\n",
    "    messages = messages,\n",
    "    functions = functions,\n",
    "    temperature = 0)\n",
    "\n",
    "# Print out\n",
    "display(JSON(response.json()))"
   ]
  },
  {
   "cell_type": "code",
   "execution_count": 55,
   "id": "004c1ae0-4160-4f26-b0d4-c2a2e8d8a14c",
   "metadata": {},
   "outputs": [],
   "source": [
    "response_message = response.choices[0].message"
   ]
  },
  {
   "cell_type": "code",
   "execution_count": 56,
   "id": "410e83fb-f4b1-47b7-b460-74ccee084bbc",
   "metadata": {},
   "outputs": [
    {
     "data": {
      "text/plain": [
       "ChatCompletionMessage(content=None, role='assistant', function_call=FunctionCall(arguments='{\\n  \"location\": \"Boston, MA\"\\n}', name='get_current_weather'), tool_calls=None)"
      ]
     },
     "execution_count": 56,
     "metadata": {},
     "output_type": "execute_result"
    }
   ],
   "source": [
    "response_message"
   ]
  },
  {
   "cell_type": "code",
   "execution_count": 58,
   "id": "bcea1dac-4137-487b-8120-07ffcff99e5e",
   "metadata": {},
   "outputs": [],
   "source": [
    "response_message.content"
   ]
  },
  {
   "cell_type": "code",
   "execution_count": 61,
   "id": "0d101d7e-400e-4f33-b382-656b8b7fd24f",
   "metadata": {},
   "outputs": [
    {
     "data": {
      "text/plain": [
       "FunctionCall(arguments='{\\n  \"location\": \"Boston, MA\"\\n}', name='get_current_weather')"
      ]
     },
     "execution_count": 61,
     "metadata": {},
     "output_type": "execute_result"
    }
   ],
   "source": [
    "response_message.function_call"
   ]
  },
  {
   "cell_type": "code",
   "execution_count": 62,
   "id": "2ecd3dee-06cf-4ed0-b1ce-d5a03f805b9f",
   "metadata": {},
   "outputs": [
    {
     "data": {
      "text/plain": [
       "'{\\n  \"location\": \"Boston, MA\"\\n}'"
      ]
     },
     "execution_count": 62,
     "metadata": {},
     "output_type": "execute_result"
    }
   ],
   "source": [
    "response_message.function_call.arguments"
   ]
  },
  {
   "cell_type": "code",
   "execution_count": 64,
   "id": "8802f9a4-08d6-4a2e-ae7a-5d8a40252b45",
   "metadata": {},
   "outputs": [
    {
     "data": {
      "text/plain": [
       "{'location': 'Boston, MA'}"
      ]
     },
     "execution_count": 64,
     "metadata": {},
     "output_type": "execute_result"
    }
   ],
   "source": [
    "args = json.loads(response_message.function_call.arguments)\n",
    "args"
   ]
  },
  {
   "cell_type": "code",
   "execution_count": 65,
   "id": "b46d5bd8-5421-49c1-aa09-a92dac77b88f",
   "metadata": {},
   "outputs": [
    {
     "data": {
      "text/plain": [
       "'{\"location\": {\"location\": \"Boston, MA\"}, \"temperature\": \"72\", \"unit\": \"fahrenheit\", \"forecast\": [\"sunny\", \"windy\"]}'"
      ]
     },
     "execution_count": 65,
     "metadata": {},
     "output_type": "execute_result"
    }
   ],
   "source": [
    "get_current_weather(args)"
   ]
  },
  {
   "cell_type": "code",
   "execution_count": 67,
   "id": "407462a1-2e39-4e98-a4af-8ffac44ed161",
   "metadata": {},
   "outputs": [],
   "source": [
    "messages = [\n",
    "    {\n",
    "        'role':'user',\n",
    "        'content':'hi!'\n",
    "    }\n",
    "]"
   ]
  },
  {
   "cell_type": "code",
   "execution_count": 68,
   "id": "a2188462-bf45-4b12-ae9f-6b2ef8377ddf",
   "metadata": {
    "scrolled": true
   },
   "outputs": [
    {
     "data": {
      "application/json": {
       "choices": [
        {
         "finish_reason": "stop",
         "index": 0,
         "logprobs": null,
         "message": {
          "content": "Hello! How can I assist you today?",
          "function_call": null,
          "role": "assistant",
          "tool_calls": null
         }
        }
       ],
       "created": 1717232637,
       "id": "chatcmpl-9VEwXzEn6tWcXBPqgwI37ipWjMqPU",
       "model": "gpt-3.5-turbo-0613",
       "object": "chat.completion",
       "system_fingerprint": null,
       "usage": {
        "completion_tokens": 10,
        "prompt_tokens": 76,
        "total_tokens": 86
       }
      },
      "text/plain": [
       "<IPython.core.display.JSON object>"
      ]
     },
     "metadata": {
      "application/json": {
       "expanded": false,
       "root": "root"
      }
     },
     "output_type": "display_data"
    }
   ],
   "source": [
    "# Get response\n",
    "response = client.chat.completions.create(\n",
    "    model = llm_model,\n",
    "    messages = messages,\n",
    "    functions = functions\n",
    ")\n",
    "\n",
    "# Print out\n",
    "display(JSON(response.json()))"
   ]
  },
  {
   "cell_type": "code",
   "execution_count": 69,
   "id": "3b35b977-d1c1-48f0-abf2-a79a3392540f",
   "metadata": {},
   "outputs": [
    {
     "data": {
      "application/json": {
       "choices": [
        {
         "finish_reason": "stop",
         "index": 0,
         "logprobs": null,
         "message": {
          "content": "Hello! How can I assist you today?",
          "function_call": null,
          "role": "assistant",
          "tool_calls": null
         }
        }
       ],
       "created": 1717232855,
       "id": "chatcmpl-9VF03MlqLeMSdDxTP1DWQTW8JWhY0",
       "model": "gpt-3.5-turbo-0613",
       "object": "chat.completion",
       "system_fingerprint": null,
       "usage": {
        "completion_tokens": 10,
        "prompt_tokens": 76,
        "total_tokens": 86
       }
      },
      "text/plain": [
       "<IPython.core.display.JSON object>"
      ]
     },
     "metadata": {
      "application/json": {
       "expanded": false,
       "root": "root"
      }
     },
     "output_type": "display_data"
    }
   ],
   "source": [
    "# Get response\n",
    "response = client.chat.completions.create(\n",
    "    model = llm_model,\n",
    "    messages = messages,\n",
    "    functions = functions,\n",
    "    function_call = 'auto',\n",
    ")\n",
    "\n",
    "# Print out\n",
    "display(JSON(response.json()))"
   ]
  },
  {
   "cell_type": "code",
   "execution_count": 71,
   "id": "360b6ce2-5326-4a63-8b55-e8597116c4cc",
   "metadata": {},
   "outputs": [
    {
     "data": {
      "application/json": {
       "choices": [
        {
         "finish_reason": "stop",
         "index": 0,
         "logprobs": null,
         "message": {
          "content": "Hello! How can I assist you today?",
          "function_call": null,
          "role": "assistant",
          "tool_calls": null
         }
        }
       ],
       "created": 1717233105,
       "id": "chatcmpl-9VF45VfZAm3T48kCMIas0JgK0HpNK",
       "model": "gpt-3.5-turbo-0613",
       "object": "chat.completion",
       "system_fingerprint": null,
       "usage": {
        "completion_tokens": 9,
        "prompt_tokens": 77,
        "total_tokens": 86
       }
      },
      "text/plain": [
       "<IPython.core.display.JSON object>"
      ]
     },
     "metadata": {
      "application/json": {
       "expanded": false,
       "root": "root"
      }
     },
     "output_type": "display_data"
    }
   ],
   "source": [
    "# Get response\n",
    "response = client.chat.completions.create(\n",
    "    model = llm_model,\n",
    "    messages = messages,\n",
    "    functions = functions,\n",
    "    function_call = 'none',\n",
    ")\n",
    "\n",
    "# Print out\n",
    "display(JSON(response.json()))"
   ]
  },
  {
   "cell_type": "code",
   "execution_count": 72,
   "id": "e7855c66-9838-4f7b-b7bf-17ed5446fcaa",
   "metadata": {},
   "outputs": [
    {
     "data": {
      "application/json": {
       "choices": [
        {
         "finish_reason": "stop",
         "index": 0,
         "logprobs": null,
         "message": {
          "content": "Please wait a moment while I fetch the current weather in Boston.",
          "function_call": null,
          "role": "assistant",
          "tool_calls": null
         }
        }
       ],
       "created": 1717233209,
       "id": "chatcmpl-9VF5l0HNA5BqUHkuhK1E37E5EvXoR",
       "model": "gpt-3.5-turbo-0613",
       "object": "chat.completion",
       "system_fingerprint": null,
       "usage": {
        "completion_tokens": 13,
        "prompt_tokens": 82,
        "total_tokens": 95
       }
      },
      "text/plain": [
       "<IPython.core.display.JSON object>"
      ]
     },
     "metadata": {
      "application/json": {
       "expanded": false,
       "root": "root"
      }
     },
     "output_type": "display_data"
    }
   ],
   "source": [
    "messages = [\n",
    "    {\n",
    "        \"role\": \"user\",\n",
    "        \"content\": \"What's the weather in Boston?\",\n",
    "    }\n",
    "]\n",
    "\n",
    "# Get response\n",
    "response = client.chat.completions.create(\n",
    "    model = llm_model,\n",
    "    messages = messages,\n",
    "    functions = functions,\n",
    "    function_call = 'none',\n",
    ")\n",
    "\n",
    "# Print out\n",
    "display(JSON(response.json()))"
   ]
  },
  {
   "cell_type": "code",
   "execution_count": 73,
   "id": "38c5aaa3-218f-4ffb-bd9c-683e705140d8",
   "metadata": {},
   "outputs": [
    {
     "data": {
      "application/json": {
       "choices": [
        {
         "finish_reason": "function_call",
         "index": 0,
         "logprobs": null,
         "message": {
          "content": null,
          "function_call": {
           "arguments": "{\n  \"location\": \"Boston, MA\"\n}",
           "name": "get_current_weather"
          },
          "role": "assistant",
          "tool_calls": null
         }
        }
       ],
       "created": 1717233240,
       "id": "chatcmpl-9VF6GW5UjuuCsBmeKlnERj7vBAMOd",
       "model": "gpt-3.5-turbo-0613",
       "object": "chat.completion",
       "system_fingerprint": null,
       "usage": {
        "completion_tokens": 18,
        "prompt_tokens": 81,
        "total_tokens": 99
       }
      },
      "text/plain": [
       "<IPython.core.display.JSON object>"
      ]
     },
     "metadata": {
      "application/json": {
       "expanded": false,
       "root": "root"
      }
     },
     "output_type": "display_data"
    }
   ],
   "source": [
    "messages = [\n",
    "    {\n",
    "        \"role\": \"user\",\n",
    "        \"content\": \"What's the weather in Boston?\",\n",
    "    }\n",
    "]\n",
    "\n",
    "# Get response\n",
    "response = client.chat.completions.create(\n",
    "    model = llm_model,\n",
    "    messages = messages,\n",
    "    functions = functions,\n",
    "    function_call = 'auto',\n",
    ")\n",
    "\n",
    "# Print out\n",
    "display(JSON(response.json()))"
   ]
  },
  {
   "cell_type": "code",
   "execution_count": 74,
   "id": "a48340b1-7c5f-452a-9162-0331fa5c7579",
   "metadata": {},
   "outputs": [
    {
     "data": {
      "application/json": {
       "choices": [
        {
         "finish_reason": "stop",
         "index": 0,
         "logprobs": null,
         "message": {
          "content": null,
          "function_call": {
           "arguments": "{\n  \"location\": \"San Francisco, CA\"\n}",
           "name": "get_current_weather"
          },
          "role": "assistant",
          "tool_calls": null
         }
        }
       ],
       "created": 1717233367,
       "id": "chatcmpl-9VF8JFnuMrBNjY4NQiLzp4djCZgTb",
       "model": "gpt-3.5-turbo-0613",
       "object": "chat.completion",
       "system_fingerprint": null,
       "usage": {
        "completion_tokens": 12,
        "prompt_tokens": 83,
        "total_tokens": 95
       }
      },
      "text/plain": [
       "<IPython.core.display.JSON object>"
      ]
     },
     "metadata": {
      "application/json": {
       "expanded": false,
       "root": "root"
      }
     },
     "output_type": "display_data"
    }
   ],
   "source": [
    "messages = [\n",
    "    {\n",
    "        \"role\": \"user\",\n",
    "        \"content\": \"hi!\",\n",
    "    }\n",
    "]\n",
    "\n",
    "# Get response\n",
    "response = client.chat.completions.create(\n",
    "    model = llm_model,\n",
    "    messages = messages,\n",
    "    functions = functions,\n",
    "    function_call = {\"name\": \"get_current_weather\"}, # call specific function forcely\n",
    ")\n",
    "\n",
    "# Print out\n",
    "display(JSON(response.json()))"
   ]
  },
  {
   "cell_type": "code",
   "execution_count": 76,
   "id": "645a3071-636e-4d31-9817-99dd457cb99b",
   "metadata": {},
   "outputs": [
    {
     "data": {
      "application/json": {
       "choices": [
        {
         "finish_reason": "stop",
         "index": 0,
         "logprobs": null,
         "message": {
          "content": null,
          "function_call": {
           "arguments": "{\n\"location\": \"Boston\",\n\"unit\": \"celsius\"\n}",
           "name": "get_current_weather"
          },
          "role": "assistant",
          "tool_calls": null
         }
        }
       ],
       "created": 1717235241,
       "id": "chatcmpl-9VFcXB0eR87r1AixCFdmaI3zFweWM",
       "model": "gpt-3.5-turbo-0613",
       "object": "chat.completion",
       "system_fingerprint": null,
       "usage": {
        "completion_tokens": 15,
        "prompt_tokens": 93,
        "total_tokens": 108
       }
      },
      "text/plain": [
       "<IPython.core.display.JSON object>"
      ]
     },
     "metadata": {
      "application/json": {
       "expanded": false,
       "root": "root"
      }
     },
     "output_type": "display_data"
    }
   ],
   "source": [
    "messages = [\n",
    "    {\n",
    "        \"role\": \"user\",\n",
    "        \"content\": \"What's the weather and the celsius temperature in Boston!\",\n",
    "    }\n",
    "]\n",
    "\n",
    "# Get response\n",
    "response = client.chat.completions.create(\n",
    "    model = llm_model,\n",
    "    messages = messages,\n",
    "    functions = functions,\n",
    "    function_call = {\"name\": \"get_current_weather\"}, # call specific function\n",
    ")\n",
    "\n",
    "# Print out\n",
    "display(JSON(response.json()))"
   ]
  },
  {
   "cell_type": "code",
   "execution_count": 79,
   "id": "478d0388-76da-4ba7-ad73-3b42265c4ec8",
   "metadata": {},
   "outputs": [
    {
     "data": {
      "application/json": {
       "choices": [
        {
         "finish_reason": "stop",
         "index": 0,
         "logprobs": null,
         "message": {
          "content": null,
          "function_call": {
           "arguments": "{\n  \"location\": \"San Francisco, CA\"\n}",
           "name": "get_current_weather"
          },
          "role": "assistant",
          "tool_calls": null
         }
        }
       ],
       "created": 1717235993,
       "id": "chatcmpl-9VFofRZ7pJXvgPMMnoNFRa6k4rQpr",
       "model": "gpt-3.5-turbo-0613",
       "object": "chat.completion",
       "system_fingerprint": null,
       "usage": {
        "completion_tokens": 12,
        "prompt_tokens": 83,
        "total_tokens": 95
       }
      },
      "text/plain": [
       "<IPython.core.display.JSON object>"
      ]
     },
     "metadata": {
      "application/json": {
       "expanded": false,
       "root": "root"
      }
     },
     "output_type": "display_data"
    }
   ],
   "source": [
    "messages = [\n",
    "    {\n",
    "        \"role\": \"user\",\n",
    "        \"content\": \"hi!\",\n",
    "    }\n",
    "]\n",
    "\n",
    "# Get response\n",
    "response = client.chat.completions.create(\n",
    "    model = llm_model,\n",
    "    messages = messages,\n",
    "    functions = functions,\n",
    "    function_call = {\"name\": \"get_current_weather\"}, # call specific function\n",
    ")\n",
    "\n",
    "# Print out\n",
    "display(JSON(response.json()))"
   ]
  },
  {
   "cell_type": "code",
   "execution_count": 80,
   "id": "59a2247c-c68f-4e9e-88e2-6a7074f77c09",
   "metadata": {},
   "outputs": [
    {
     "data": {
      "application/json": {
       "choices": [
        {
         "finish_reason": "stop",
         "index": 0,
         "logprobs": null,
         "message": {
          "content": null,
          "function_call": {
           "arguments": "{\n  \"location\": \"Boston, MA\"\n}",
           "name": "get_current_weather"
          },
          "role": "assistant",
          "tool_calls": null
         }
        }
       ],
       "created": 1717236084,
       "id": "chatcmpl-9VFq8gPNeG3jCS0r6gATSFK6CmO4v",
       "model": "gpt-3.5-turbo-0613",
       "object": "chat.completion",
       "system_fingerprint": null,
       "usage": {
        "completion_tokens": 11,
        "prompt_tokens": 89,
        "total_tokens": 100
       }
      },
      "text/plain": [
       "<IPython.core.display.JSON object>"
      ]
     },
     "metadata": {
      "application/json": {
       "expanded": false,
       "root": "root"
      }
     },
     "output_type": "display_data"
    }
   ],
   "source": [
    "messages = [\n",
    "    {\n",
    "        \"role\": \"user\",\n",
    "        \"content\": \"What's the weather like in Boston!\",\n",
    "    }\n",
    "]\n",
    "\n",
    "# Get response\n",
    "response = client.chat.completions.create(\n",
    "    model = llm_model,\n",
    "    messages = messages,\n",
    "    functions = functions,\n",
    "    function_call = {\"name\": \"get_current_weather\"}, # call specific function\n",
    ")\n",
    "\n",
    "# Print out\n",
    "display(JSON(response.json()))"
   ]
  },
  {
   "cell_type": "code",
   "execution_count": 82,
   "id": "0bf1e2ab-463a-4c6e-994f-32360dd4190e",
   "metadata": {},
   "outputs": [
    {
     "data": {
      "text/plain": [
       "{'location': 'Boston, MA'}"
      ]
     },
     "execution_count": 82,
     "metadata": {},
     "output_type": "execute_result"
    }
   ],
   "source": [
    "args = json.loads(response.choices[0].message.function_call.arguments)\n",
    "args"
   ]
  },
  {
   "cell_type": "code",
   "execution_count": 83,
   "id": "a0f45998-e43b-4ccf-bd55-c1b022dc784a",
   "metadata": {},
   "outputs": [
    {
     "data": {
      "text/plain": [
       "'{\"location\": {\"location\": \"Boston, MA\"}, \"temperature\": \"72\", \"unit\": \"fahrenheit\", \"forecast\": [\"sunny\", \"windy\"]}'"
      ]
     },
     "execution_count": 83,
     "metadata": {},
     "output_type": "execute_result"
    }
   ],
   "source": [
    "observation = get_current_weather(args)\n",
    "observation"
   ]
  },
  {
   "cell_type": "code",
   "execution_count": 84,
   "id": "425a175d-d4ca-4e66-909e-2aea5bc64326",
   "metadata": {},
   "outputs": [
    {
     "data": {
      "text/plain": [
       "[{'role': 'user', 'content': \"What's the weather like in Boston!\"},\n",
       " {'role': 'function',\n",
       "  'name': 'get_current_weather',\n",
       "  'content': '{\"location\": {\"location\": \"Boston, MA\"}, \"temperature\": \"72\", \"unit\": \"fahrenheit\", \"forecast\": [\"sunny\", \"windy\"]}'}]"
      ]
     },
     "execution_count": 84,
     "metadata": {},
     "output_type": "execute_result"
    }
   ],
   "source": [
    "messages.append(\n",
    "        {\n",
    "            \"role\": \"function\",\n",
    "            \"name\": \"get_current_weather\",\n",
    "            \"content\": observation,\n",
    "        }\n",
    ")\n",
    "messages"
   ]
  },
  {
   "cell_type": "code",
   "execution_count": 85,
   "id": "6c552405-54c6-4856-93fc-25346b404da7",
   "metadata": {},
   "outputs": [
    {
     "name": "stderr",
     "output_type": "stream",
     "text": [
      "/home/loc/miniconda3/envs/venv/lib/python3.8/site-packages/IPython/core/display.py:618: UserWarning: JSON expects JSONable dict or list, not JSON strings\n",
      "  warnings.warn(\"JSON expects JSONable dict or list, not JSON strings\")\n"
     ]
    },
    {
     "data": {
      "application/json": {
       "choices": [
        {
         "finish_reason": "stop",
         "index": 0,
         "logprobs": null,
         "message": {
          "content": "The weather in Boston is currently sunny and windy with a temperature of 72 degrees Fahrenheit.",
          "function_call": null,
          "role": "assistant",
          "tool_calls": null
         }
        }
       ],
       "created": 1717236732,
       "id": "chatcmpl-9VG0aFLgsMkhZJw3SmsiKjhQzyzMw",
       "model": "gpt-3.5-turbo-0613",
       "object": "chat.completion",
       "system_fingerprint": null,
       "usage": {
        "completion_tokens": 18,
        "prompt_tokens": 56,
        "total_tokens": 74
       }
      },
      "text/plain": [
       "<IPython.core.display.JSON object>"
      ]
     },
     "metadata": {
      "application/json": {
       "expanded": false,
       "root": "root"
      }
     },
     "output_type": "display_data"
    }
   ],
   "source": [
    "# Get response\n",
    "response = client.chat.completions.create(\n",
    "    model = llm_model,\n",
    "    messages = messages,\n",
    ")\n",
    "\n",
    "# Print out\n",
    "display(JSON(response.json()))"
   ]
  },
  {
   "cell_type": "code",
   "execution_count": null,
   "id": "0cc8ed44-46b2-40c6-b459-7c9b71526fb8",
   "metadata": {},
   "outputs": [],
   "source": []
  }
 ],
 "metadata": {
  "kernelspec": {
   "display_name": "Python 3 (ipykernel)",
   "language": "python",
   "name": "python3"
  },
  "language_info": {
   "codemirror_mode": {
    "name": "ipython",
    "version": 3
   },
   "file_extension": ".py",
   "mimetype": "text/x-python",
   "name": "python",
   "nbconvert_exporter": "python",
   "pygments_lexer": "ipython3",
   "version": "3.8.19"
  }
 },
 "nbformat": 4,
 "nbformat_minor": 5
}
