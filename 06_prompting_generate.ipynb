{
 "cells": [
  {
   "cell_type": "code",
   "execution_count": 11,
   "id": "dc00bd42-cb68-40cf-b55b-70d0c6a6c375",
   "metadata": {},
   "outputs": [],
   "source": [
    "import os\n",
    "import openai\n",
    "from IPython.display import display, Markdown, Latex, HTML, JSON\n",
    "\n",
    "MODEL_NAME = 'gpt-3.5-turbo'\n",
    "\n",
    "with open('/home/loc/Documents/OPENAI_API_KEY.txt') as f:\n",
    "    OPENAI_API_KEY = f.read().strip()\n",
    "    os.environ['OPENAI_API_KEY'] = OPENAI_API_KEY\n",
    "    openai.api_key = OPENAI_API_KEY\n",
    "\n",
    "def get_completion(prompt, model=MODEL_NAME, temperature=0):\n",
    "    # generate message\n",
    "    messages = [{'role':'user',\n",
    "                 'content':prompt}\n",
    "               ]\n",
    "    # receive the response\n",
    "    response = openai.ChatCompletion.create(\n",
    "        model = model,\n",
    "        messages = messages,\n",
    "        temperature = temperature # this is the degree of randomness of model\n",
    "    )\n",
    "    return response.choices[0].message['content']"
   ]
  },
  {
   "cell_type": "markdown",
   "id": "46982854-9d9f-4fb2-ae74-ce73dd688681",
   "metadata": {},
   "source": [
    "### Content Creation"
   ]
  },
  {
   "cell_type": "code",
   "execution_count": 2,
   "id": "1cd807fd-6ddf-4977-a643-ad3bfd57365f",
   "metadata": {},
   "outputs": [
    {
     "name": "stdout",
     "output_type": "stream",
     "text": [
      "Benefits of Renewable Energy:\n",
      "\n",
      "1. Environmental Benefits: One of the primary advantages of renewable energy is its minimal impact on the environment. Unlike fossil fuels, renewable sources do not produce harmful greenhouse gas emissions that contribute to climate change. By reducing our reliance on fossil fuels, we can help mitigate the effects of global warming and protect our planet for future generations.\n",
      "\n",
      "2. Energy Security: Renewable energy sources are abundant and widely available, making them a more secure and reliable option for meeting our energy needs. Unlike finite fossil fuel reserves, renewable sources such as sunlight and wind are inexhaustible, ensuring a stable and sustainable energy supply for the long term.\n",
      "\n",
      "3. Economic Benefits: The renewable energy sector has the potential to create millions of jobs and stimulate economic growth. As the demand for clean energy technologies continues to rise, investments in renewable energy projects can drive innovation, attract new industries, and boost local economies.\n",
      "\n",
      "Challenges of Renewable Energy:\n",
      "\n",
      "1. Intermittency: One of the biggest challenges facing renewable energy is its intermittent nature. Solar and wind power generation is dependent on weather conditions, which can fluctuate throughout the day and season. This variability can pose challenges for grid stability and energy reliability, requiring the development of energy storage solutions and smart grid technologies.\n",
      "\n",
      "2. Cost: While the cost of renewable energy technologies has decreased significantly in recent years, they still require substantial upfront investments. The initial costs of installing solar panels, wind turbines, and other renewable infrastructure can be prohibitive for some consumers and businesses, hindering widespread adoption.\n",
      "\n",
      "3. Infrastructure and Grid Integration: The integration of renewable energy sources into existing energy grids can be complex and costly. Upgrading infrastructure, expanding transmission lines, and implementing new grid management systems are necessary to accommodate the growing share of renewable energy in the energy mix. Additionally, regulatory and policy barriers can hinder the seamless integration of renewables into the grid.\n",
      "\n",
      "In conclusion, the future of renewable energy holds great promise for addressing the challenges of climate change, enhancing energy security, and driving economic growth. However, overcoming the obstacles of intermittency, cost, and grid integration will require continued innovation, investment, and collaboration across sectors. By harnessing the power of renewable energy, we can create a more sustainable and resilient energy future for generations to come.\n"
     ]
    }
   ],
   "source": [
    "prompt = f\"\"\"\n",
    "Title: The Future of Renewable Energy: Benefits and Challenges\n",
    "\n",
    "Renewable energy is transforming the global energy landscape.\\\n",
    "With the increasing threat of climate change, \\\n",
    "the transition to renewable sources such as solar, wind, and hydroelectric power has become imperative. \\\n",
    "In this article, we will explore the benefits and challenges associated with renewable energy...\n",
    "\n",
    "Continues with detailed sections \n",
    "\"\"\"\n",
    "\n",
    "response = get_completion(prompt)\n",
    "print(response)"
   ]
  },
  {
   "cell_type": "markdown",
   "id": "153a2467-7346-4bf3-bad0-dc1b4d43219b",
   "metadata": {},
   "source": [
    "### Product Descriptions and Marketing Copy"
   ]
  },
  {
   "cell_type": "code",
   "execution_count": 3,
   "id": "a7fd0553-4a3e-4a0a-8c01-e0f77a4bed08",
   "metadata": {},
   "outputs": [
    {
     "name": "stdout",
     "output_type": "stream",
     "text": [
      "The Zenith Pro Smartwatch boasts a range of impressive specifications that make it stand out from the competition. With a high-resolution touchscreen display, you can easily navigate through the watch's features and notifications with just a swipe of your finger. The built-in heart rate monitor ensures that you can keep track of your fitness levels throughout the day, while the GPS tracking feature allows you to map out your runs or hikes with precision.\n",
      "\n",
      "One of the key benefits of the Zenith Pro Smartwatch is its seamless integration with your smartphone. Receive notifications for calls, texts, and social media alerts directly on your wrist, so you never miss an important message. You can also control your music playback and even take calls without having to reach for your phone.\n",
      "\n",
      "In addition to its fitness and connectivity features, the Zenith Pro Smartwatch also offers a range of lifestyle benefits. With a long-lasting battery life, you can wear it all day and night without worrying about constantly recharging. The sleek and modern design of the watch makes it a stylish accessory for any outfit, whether you're hitting the gym or heading to a business meeting.\n",
      "\n",
      "Overall, the Zenith Pro Smartwatch is the perfect companion for anyone looking to stay connected, track their fitness goals, and add a touch of style to their everyday life. Upgrade to the Zenith Pro Smartwatch and experience the ultimate in smartwatch technology.\n"
     ]
    }
   ],
   "source": [
    "prompt = f\"\"\"\n",
    "Introducing the Zenith Pro Smartwatch - your ultimate companion for a connected life. \\\n",
    "With cutting-edge features like heart rate monitoring, \\\n",
    "GPS tracking, and seamless notifications, \\\n",
    "this smartwatch is designed to enhance your everyday activities. \\\n",
    "Stay on top of your fitness goals with real-time analytics and enjoy the sleek, \\\n",
    "modern design that fits any style...\n",
    "\n",
    "Expands with specifications and benefits\n",
    "\"\"\"\n",
    "\n",
    "response = get_completion(prompt)\n",
    "print(response)"
   ]
  },
  {
   "cell_type": "markdown",
   "id": "d8f6ad7a-0ba8-47f7-8c9f-ff33faaa3418",
   "metadata": {},
   "source": [
    "### Educational Content"
   ]
  },
  {
   "cell_type": "code",
   "execution_count": 6,
   "id": "92a7318b-257f-4558-8b5d-8535a638b004",
   "metadata": {},
   "outputs": [
    {
     "name": "stdout",
     "output_type": "stream",
     "text": [
      "Sure! Imagine the solar system as a big playground with the sun in the middle. The sun is like a giant ball of fire that gives us light and heat. Around the sun, there are eight planets that orbit it in different paths. These planets are like friends playing around the sun.\n",
      "\n",
      "The first planet closest to the sun is Mercury, then Venus, Earth (that's where we live!), Mars, Jupiter, Saturn, Uranus, and Neptune. Each planet is different in size, color, and features.\n",
      "\n",
      "The planets move around the sun because of gravity, which is like a big invisible force that pulls things towards each other. The sun's gravity keeps the planets in their orbits, like a big game of tag where the sun is \"it.\"\n",
      "\n",
      "Sometimes, the planets also have moons that orbit around them, like little friends that follow them around. And there are also asteroids and comets that zoom around the solar system, adding to the fun.\n",
      "\n",
      "So, the solar system is like a big cosmic dance where everything moves and spins around the sun, creating a beautiful and amazing sight for us to see. It's like a giant playground in space where all the planets and other objects play together in harmony.\n"
     ]
    }
   ],
   "source": [
    "prompt = f\"\"\"\n",
    "Assume i am 7 year old,\n",
    "Write a explanation how solar system work for me?\n",
    "\"\"\"\n",
    "\n",
    "response = get_completion(prompt)\n",
    "print(response)"
   ]
  },
  {
   "cell_type": "markdown",
   "id": "f5777b8e-843f-4d57-b24a-48cbd0db7346",
   "metadata": {},
   "source": [
    "### Customize the automated reply to a customer email"
   ]
  },
  {
   "cell_type": "code",
   "execution_count": 7,
   "id": "632c2c78-20a8-4f23-be9e-5b4ac025f8bc",
   "metadata": {},
   "outputs": [],
   "source": [
    "# given the sentiment from the lesson on \"inferring\",\n",
    "# and the original customer message, customize the email\n",
    "sentiment = \"negative\"\n",
    "\n",
    "# review for a blender\n",
    "review = f\"\"\"\n",
    "So, they still had the 17 piece system on seasonal \\\n",
    "sale for around $49 in the month of November, about \\\n",
    "half off, but for some reason (call it price gouging) \\\n",
    "around the second week of December the prices all went \\\n",
    "up to about anywhere from between $70-$89 for the same \\\n",
    "system. And the 11 piece system went up around $10 or \\\n",
    "so in price also from the earlier sale price of $29. \\\n",
    "So it looks okay, but if you look at the base, the part \\\n",
    "where the blade locks into place doesn’t look as good \\\n",
    "as in previous editions from a few years ago, but I \\\n",
    "plan to be very gentle with it (example, I crush \\\n",
    "very hard items like beans, ice, rice, etc. in the \\ \n",
    "blender first then pulverize them in the serving size \\\n",
    "I want in the blender then switch to the whipping \\\n",
    "blade for a finer flour, and use the cross cutting blade \\\n",
    "first when making smoothies, then use the flat blade \\\n",
    "if I need them finer/less pulpy). Special tip when making \\\n",
    "smoothies, finely cut and freeze the fruits and \\\n",
    "vegetables (if using spinach-lightly stew soften the \\ \n",
    "spinach then freeze until ready for use-and if making \\\n",
    "sorbet, use a small to medium sized food processor) \\ \n",
    "that you plan to use that way you can avoid adding so \\\n",
    "much ice if at all-when making your smoothie. \\\n",
    "After about a year, the motor was making a funny noise. \\\n",
    "I called customer service but the warranty expired \\\n",
    "already, so I had to buy another one. FYI: The overall \\\n",
    "quality has gone done in these types of products, so \\\n",
    "they are kind of counting on brand recognition and \\\n",
    "consumer loyalty to maintain sales. Got it in about \\\n",
    "two days.\n",
    "\"\"\""
   ]
  },
  {
   "cell_type": "code",
   "execution_count": 8,
   "id": "5fe7cc16-d1c7-4d26-8c35-496f49fb45cd",
   "metadata": {},
   "outputs": [
    {
     "name": "stdout",
     "output_type": "stream",
     "text": [
      "Dear valued customer,\n",
      "\n",
      "Thank you for taking the time to share your feedback with us. We are truly sorry to hear about your experience with the pricing changes and the quality of the product. We apologize for any inconvenience this may have caused you.\n",
      "\n",
      "If you have any further concerns or would like to discuss this matter further, please do not hesitate to reach out to our customer service team. They will be more than happy to assist you.\n",
      "\n",
      "We appreciate your loyalty and feedback as it helps us improve our products and services for all our customers.\n",
      "\n",
      "Thank you again for your review.\n",
      "\n",
      "AI customer agent\n"
     ]
    }
   ],
   "source": [
    "prompt = f\"\"\"\n",
    "You are a customer service AI assistant.\n",
    "Your task is to send an email reply to a valued customer.\n",
    "Given the customer email delimited by ```, \\\n",
    "Generate a reply to thank the customer for their review.\n",
    "If the sentiment is positive or neutral, thank them for \\\n",
    "their review.\n",
    "If the sentiment is negative, apologize and suggest that \\\n",
    "they can reach out to customer service. \n",
    "Make sure to use specific details from the review.\n",
    "Write in a concise and professional tone.\n",
    "Sign the email as `AI customer agent`.\n",
    "Customer review: ```{review}```\n",
    "Review sentiment: {sentiment}\n",
    "\"\"\"\n",
    "response = get_completion(prompt)\n",
    "print(response)"
   ]
  },
  {
   "cell_type": "markdown",
   "id": "f3c02bbc-753e-49b1-a701-eb0106f703e4",
   "metadata": {},
   "source": [
    "### Remind the model to use details from the customer's email"
   ]
  },
  {
   "cell_type": "code",
   "execution_count": 12,
   "id": "a73a9807-f9bc-4038-b631-aa73190567d8",
   "metadata": {},
   "outputs": [
    {
     "name": "stdout",
     "output_type": "stream",
     "text": [
      "Dear valued customer,\n",
      "\n",
      "Thank you for taking the time to share your feedback with us. We are truly sorry to hear about the issues you encountered with our product and the price changes you observed. We sincerely apologize for any inconvenience this may have caused you.\n",
      "\n",
      "If you ever need further assistance or have any concerns, please don't hesitate to reach out to our customer service team. They are available to help address any issues you may have.\n",
      "\n",
      "Thank you again for your review and for choosing our products. We appreciate your feedback as it helps us improve our products and services.\n",
      "\n",
      "Best regards,\n",
      "\n",
      "AI customer agent\n"
     ]
    }
   ],
   "source": [
    "prompt = f\"\"\"\n",
    "You are a customer service AI assistant.\n",
    "Your task is to send an email reply to a valued customer.\n",
    "Given the customer email delimited by ```, \\\n",
    "Generate a reply to thank the customer for their review.\n",
    "If the sentiment is positive or neutral, thank them for \\\n",
    "their review.\n",
    "If the sentiment is negative, apologize and suggest that \\\n",
    "they can reach out to customer service. \n",
    "Make sure to use specific details from the review.\n",
    "Write in a concise and professional tone.\n",
    "Sign the email as `AI customer agent`.\n",
    "Customer review: ```{review}```\n",
    "Review sentiment: {sentiment}\n",
    "\"\"\"\n",
    "response = get_completion(prompt, temperature=0.7)\n",
    "print(response)"
   ]
  },
  {
   "cell_type": "code",
   "execution_count": null,
   "id": "46b0452d-9ec2-4dc2-ae6f-ca7743e51ea8",
   "metadata": {},
   "outputs": [],
   "source": []
  }
 ],
 "metadata": {
  "kernelspec": {
   "display_name": "Python 3 (ipykernel)",
   "language": "python",
   "name": "python3"
  },
  "language_info": {
   "codemirror_mode": {
    "name": "ipython",
    "version": 3
   },
   "file_extension": ".py",
   "mimetype": "text/x-python",
   "name": "python",
   "nbconvert_exporter": "python",
   "pygments_lexer": "ipython3",
   "version": "3.8.19"
  }
 },
 "nbformat": 4,
 "nbformat_minor": 5
}
