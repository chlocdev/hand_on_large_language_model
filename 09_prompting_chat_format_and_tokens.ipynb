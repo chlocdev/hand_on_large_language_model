{
 "cells": [
  {
   "cell_type": "code",
   "execution_count": 16,
   "id": "26a29348-1b45-4c09-9b63-76d9104b85aa",
   "metadata": {},
   "outputs": [],
   "source": [
    "import os\n",
    "import openai\n",
    "import tiktoken\n",
    "from IPython.display import display, Markdown, Latex, HTML, JSON\n",
    "\n",
    "MODEL_NAME = 'gpt-3.5-turbo'\n",
    "\n",
    "with open('/home/loc/Documents/OPENAI_API_KEY.txt') as f:\n",
    "    OPENAI_API_KEY = f.read().strip()\n",
    "    os.environ['OPENAI_API_KEY'] = OPENAI_API_KEY\n",
    "    openai.api_key = OPENAI_API_KEY\n",
    "\n",
    "def get_completion(prompt, model=MODEL_NAME, temperature=0):\n",
    "    # generate message\n",
    "    messages = [{'role':'user',\n",
    "                 'content':prompt}\n",
    "               ]\n",
    "    # receive the response\n",
    "    response = openai.ChatCompletion.create(\n",
    "        model = model,\n",
    "        messages = messages,\n",
    "        temperature = temperature # this is the degree of randomness of model\n",
    "    )\n",
    "    return response.choices[0].message['content']\n",
    "\n",
    "\n",
    "def get_completion_from_messages(messages,model=MODEL_NAME,\n",
    "                                 temperature=0,\n",
    "                                 max_tokens=500):\n",
    "    response = openai.ChatCompletion.create(\n",
    "        model = model,\n",
    "        messages = messages,\n",
    "        temperature = temperature, # this is the degree of randomness of model\n",
    "        max_tokens = max_tokens # the maximum number of tokens the model can ouptut\n",
    "    )\n",
    "    return response.choices[0].message['content']\n",
    "\n",
    "def get_completion_and_token_count(messages, \n",
    "                                   model=\"gpt-3.5-turbo\", \n",
    "                                   temperature=0, \n",
    "                                   max_tokens=500):\n",
    "    \n",
    "    response = openai.ChatCompletion.create(\n",
    "        model=model,\n",
    "        messages=messages,\n",
    "        temperature=temperature, \n",
    "        max_tokens=max_tokens,\n",
    "    )\n",
    "    \n",
    "    content = response.choices[0].message[\"content\"]\n",
    "    \n",
    "    token_dict = {\n",
    "'prompt_tokens':response['usage']['prompt_tokens'],\n",
    "'completion_tokens':response['usage']['completion_tokens'],\n",
    "'total_tokens':response['usage']['total_tokens'],\n",
    "    }\n",
    "\n",
    "    return content, token_dict"
   ]
  },
  {
   "cell_type": "code",
   "execution_count": 7,
   "id": "6623555a-7ba6-441f-a63a-eee63a4582a5",
   "metadata": {},
   "outputs": [
    {
     "data": {
      "text/plain": [
       "'The capital of France is Paris.'"
      ]
     },
     "execution_count": 7,
     "metadata": {},
     "output_type": "execute_result"
    }
   ],
   "source": [
    "response = get_completion(\"What is the capital of France?\")\n",
    "response"
   ]
  },
  {
   "cell_type": "markdown",
   "id": "211ac8e6-bd2b-4375-882f-b6b6216e5f95",
   "metadata": {},
   "source": [
    "### Tokens problem\n",
    "\n",
    "\"lollipop\" in reverse should be \"popillol\""
   ]
  },
  {
   "cell_type": "code",
   "execution_count": 8,
   "id": "5653cac2-0440-4f60-bfbf-3a976ea73d5a",
   "metadata": {},
   "outputs": [
    {
     "name": "stdout",
     "output_type": "stream",
     "text": [
      "pilpolol\n"
     ]
    }
   ],
   "source": [
    "response = get_completion(\"Take the letters in lollipop \\\n",
    "and reverse them\")\n",
    "print(response)"
   ]
  },
  {
   "cell_type": "code",
   "execution_count": 9,
   "id": "8e726a09-113e-42ab-9590-bff985465f45",
   "metadata": {},
   "outputs": [
    {
     "name": "stdout",
     "output_type": "stream",
     "text": [
      "p-o-p-i-l-l-o-l\n"
     ]
    }
   ],
   "source": [
    "response = get_completion(\"\"\"Take the letters in \\\n",
    "l-o-l-l-i-p-o-p and reverse them\"\"\")\n",
    "print(response)"
   ]
  },
  {
   "cell_type": "markdown",
   "id": "37371dd3-eaff-4ac9-a3b5-5664476123dd",
   "metadata": {},
   "source": [
    "### System, User and Assistant messages"
   ]
  },
  {
   "cell_type": "code",
   "execution_count": 10,
   "id": "44f3bc2d-208a-49b6-b189-d3bf11157ad7",
   "metadata": {},
   "outputs": [
    {
     "name": "stdout",
     "output_type": "stream",
     "text": [
      "Oh, the happy carrot, so bright and so round,\n",
      "In the garden, he grows, safe and sound.\n",
      "With a leafy green top and a smile so wide,\n",
      "In the sunshine, he dances, filled with joy inside.\n"
     ]
    }
   ],
   "source": [
    "messages =  [  \n",
    "{'role':'system', \n",
    " 'content':\"\"\"You are an assistant who\\\n",
    " responds in the style of Dr Seuss.\"\"\"},    \n",
    "{'role':'user', \n",
    " 'content':\"\"\"write me a very short poem\\\n",
    " about a happy carrot\"\"\"},  \n",
    "] \n",
    "response = get_completion_from_messages(messages, temperature=1)\n",
    "print(response)"
   ]
  },
  {
   "cell_type": "code",
   "execution_count": 11,
   "id": "f996e72f-d142-4b02-9e85-8b3ae14e28a6",
   "metadata": {},
   "outputs": [
    {
     "name": "stdout",
     "output_type": "stream",
     "text": [
      "Once there was a cheerful carrot named Carl who lived in a bountiful vegetable garden surrounded by his colorful friends.\n"
     ]
    }
   ],
   "source": [
    "# length\n",
    "messages =  [  \n",
    "{'role':'system',\n",
    " 'content':'All your responses must be \\\n",
    "one sentence long.'},    \n",
    "{'role':'user',\n",
    " 'content':'write me a story about a happy carrot'},  \n",
    "] \n",
    "response = get_completion_from_messages(messages, temperature =1)\n",
    "print(response)"
   ]
  },
  {
   "cell_type": "code",
   "execution_count": 12,
   "id": "ab31a412-1a21-4ce2-993f-8d6da83619fb",
   "metadata": {},
   "outputs": [
    {
     "name": "stdout",
     "output_type": "stream",
     "text": [
      "In a garden so bright, grew a carrot so right, always smiling from dawn until night.\n"
     ]
    }
   ],
   "source": [
    "# combined\n",
    "messages =  [  \n",
    "{'role':'system',\n",
    " 'content':\"\"\"You are an assistant who \\\n",
    "responds in the style of Dr Seuss. \\\n",
    "All your responses must be one sentence long.\"\"\"},    \n",
    "{'role':'user',\n",
    " 'content':\"\"\"write me a story about a happy carrot\"\"\"},\n",
    "] \n",
    "response = get_completion_from_messages(messages, \n",
    "                                        temperature =1)\n",
    "print(response)"
   ]
  },
  {
   "cell_type": "code",
   "execution_count": 17,
   "id": "cb5e83c6-0ce0-4c2d-a6bc-2897820a60e1",
   "metadata": {},
   "outputs": [
    {
     "name": "stdout",
     "output_type": "stream",
     "text": [
      "Oh, the happy carrot, so bright and so merry,\n",
      "In the garden, it grows, never feeling contrary.\n",
      "With a cheerful orange hue and a leafy green top,\n",
      "It dances in the sunshine, never wanting to stop.\n",
      "{'prompt_tokens': 37, 'completion_tokens': 46, 'total_tokens': 83}\n"
     ]
    }
   ],
   "source": [
    "messages = [\n",
    "{'role':'system', \n",
    " 'content':\"\"\"You are an assistant who responds\\\n",
    " in the style of Dr Seuss.\"\"\"},    \n",
    "{'role':'user',\n",
    " 'content':\"\"\"write me a very short poem \\ \n",
    " about a happy carrot\"\"\"},  \n",
    "] \n",
    "\n",
    "response, token_dict = get_completion_and_token_count(messages)\n",
    "\n",
    "print(response)\n",
    "\n",
    "print(token_dict)"
   ]
  },
  {
   "cell_type": "code",
   "execution_count": null,
   "id": "dcc53260-9edf-46c1-9fd3-90ee338e5599",
   "metadata": {},
   "outputs": [],
   "source": []
  }
 ],
 "metadata": {
  "kernelspec": {
   "display_name": "Python 3 (ipykernel)",
   "language": "python",
   "name": "python3"
  },
  "language_info": {
   "codemirror_mode": {
    "name": "ipython",
    "version": 3
   },
   "file_extension": ".py",
   "mimetype": "text/x-python",
   "name": "python",
   "nbconvert_exporter": "python",
   "pygments_lexer": "ipython3",
   "version": "3.8.19"
  }
 },
 "nbformat": 4,
 "nbformat_minor": 5
}
